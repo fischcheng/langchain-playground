{
 "cells": [
  {
   "cell_type": "code",
   "execution_count": 1,
   "id": "c404738c-b230-4bb3-abc8-914fba7325d9",
   "metadata": {},
   "outputs": [],
   "source": [
    "from langchain.document_loaders import MathpixPDFLoader"
   ]
  },
  {
   "cell_type": "code",
   "execution_count": 4,
   "id": "6e3cdc38-97e3-47cb-a357-bbe062eb1ad9",
   "metadata": {},
   "outputs": [],
   "source": [
    "from langchain.document_loaders import PyPDFLoader\n",
    "\n",
    "loader = PyPDFLoader(\"cover_letter_PF.pdf\")\n",
    "pages = loader.load_and_split()"
   ]
  },
  {
   "cell_type": "code",
   "execution_count": 5,
   "id": "8971152a-2d80-4129-8fee-152a06aa5dad",
   "metadata": {},
   "outputs": [
    {
     "data": {
      "text/plain": [
       "[Document(lc_kwargs={'page_content': \"YuCheng\\nweb site | yu@yu-cheng.c o | (786)503- 3366 | Github | Linkedin\\nPower Factors J une 12, 2023\\nDear Hiring Manager,\\nA s a passiona te D a ta Scien tis t wi th 5 year s o f mul ti-disciplinary e xperience, I'm thrilled t o\\nappl y f or the D a ta Scien tis t , Solar po sition a t P o wer F act or s. My e xpertise in de vel oping\\ninno v a tive machine learning so lu tions, leading da ta-driven pr ojects, and serving as a\\ntechnical resource aligns perfectl y with y our requiremen ts.\\nA s a tr ained clima te scien tis t, I am passiona te abou t c ombining my kno wledge and da ta\\nscience pr actice t o c on tribu te t o the figh t o f clima te crisis. I ha ve al w a y s been driven b y the\\npo ten tial o f rene w able energy a nd the applica tion o f da ta science in maximizing its u tilit y . I\\nam particularl y dr a wn t o P o wer F act or s' dedica tion t o figh ting clima te change with c ode,\\nand the opportunit y t o c on tribu te t o a fu ture fueled b y rene w able energy e xcites me. The\\nin tricacies o f handling rene w able energy da ta, f ormula ting da ta science t ools, and\\nmanaging da ta-cen tered pr ojects p o se challenges tha t I am read y and equipped t o f ace.\\nMoreo ver, I'm e xcited abou t the chance t o w ork with a diver se team o f rene w able indus try\\ne xperts. My pr o ven tr ack rec or d o f buil ding s tr ong c ollabor a tions in cr o ss - functional teams\\nwill enable me t o s eamlessl y in tegr a te in t o y our e xis ting team and deliver v aluable insigh ts\\nrigh t fr om the s tart.\\nI am thrilled a t the p r o spect o f bringing my technical skills and en thusiasm f or rene w able\\nenergy t o P o wer F act or s and l ook f orw ar d t o discussing ho w I can c on tribu te t o y our team.\\nThank y ou f or c onsidering my ap plica tion.\\nS incerel y\\nY u Cheng\", 'metadata': {'source': 'cover_letter_PF.pdf', 'page': 0}}, page_content=\"YuCheng\\nweb site | yu@yu-cheng.c o | (786)503- 3366 | Github | Linkedin\\nPower Factors J une 12, 2023\\nDear Hiring Manager,\\nA s a passiona te D a ta Scien tis t wi th 5 year s o f mul ti-disciplinary e xperience, I'm thrilled t o\\nappl y f or the D a ta Scien tis t , Solar po sition a t P o wer F act or s. My e xpertise in de vel oping\\ninno v a tive machine learning so lu tions, leading da ta-driven pr ojects, and serving as a\\ntechnical resource aligns perfectl y with y our requiremen ts.\\nA s a tr ained clima te scien tis t, I am passiona te abou t c ombining my kno wledge and da ta\\nscience pr actice t o c on tribu te t o the figh t o f clima te crisis. I ha ve al w a y s been driven b y the\\npo ten tial o f rene w able energy a nd the applica tion o f da ta science in maximizing its u tilit y . I\\nam particularl y dr a wn t o P o wer F act or s' dedica tion t o figh ting clima te change with c ode,\\nand the opportunit y t o c on tribu te t o a fu ture fueled b y rene w able energy e xcites me. The\\nin tricacies o f handling rene w able energy da ta, f ormula ting da ta science t ools, and\\nmanaging da ta-cen tered pr ojects p o se challenges tha t I am read y and equipped t o f ace.\\nMoreo ver, I'm e xcited abou t the chance t o w ork with a diver se team o f rene w able indus try\\ne xperts. My pr o ven tr ack rec or d o f buil ding s tr ong c ollabor a tions in cr o ss - functional teams\\nwill enable me t o s eamlessl y in tegr a te in t o y our e xis ting team and deliver v aluable insigh ts\\nrigh t fr om the s tart.\\nI am thrilled a t the p r o spect o f bringing my technical skills and en thusiasm f or rene w able\\nenergy t o P o wer F act or s and l ook f orw ar d t o discussing ho w I can c on tribu te t o y our team.\\nThank y ou f or c onsidering my ap plica tion.\\nS incerel y\\nY u Cheng\", metadata={'source': 'cover_letter_PF.pdf', 'page': 0})]"
      ]
     },
     "execution_count": 5,
     "metadata": {},
     "output_type": "execute_result"
    }
   ],
   "source": [
    "pages"
   ]
  }
 ],
 "metadata": {
  "kernelspec": {
   "display_name": "Python 3 (ipykernel)",
   "language": "python",
   "name": "python3"
  },
  "language_info": {
   "codemirror_mode": {
    "name": "ipython",
    "version": 3
   },
   "file_extension": ".py",
   "mimetype": "text/x-python",
   "name": "python",
   "nbconvert_exporter": "python",
   "pygments_lexer": "ipython3",
   "version": "3.10.11"
  }
 },
 "nbformat": 4,
 "nbformat_minor": 5
}
